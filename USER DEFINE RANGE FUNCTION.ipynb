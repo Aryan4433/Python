{
 "cells": [
  {
   "cell_type": "code",
   "execution_count": 5,
   "id": "94f3ea8b",
   "metadata": {
    "scrolled": true
   },
   "outputs": [
    {
     "name": "stdout",
     "output_type": "stream",
     "text": [
      "Enter a starting range: 1000\n",
      "Enter a ending range: 0\n",
      "Enter a step size range: -50\n",
      "[1000, 950, 900, 850, 800, 750, 700, 650, 600, 550, 500, 450, 400, 350, 300, 250, 200, 150, 100, 50, 0]\n"
     ]
    }
   ],
   "source": [
    "# User define Range function using Python\n",
    "start = int(input(\"Enter a starting range: \"))\n",
    "stop = int(input(\"Enter a ending range: \"))\n",
    "step = int(input(\"Enter a step size range: \"))\n",
    "\n",
    "def one1(start,stop,step):\n",
    "    a=[start]\n",
    "    while start < stop:\n",
    "        start = start + step\n",
    "        a.append(start)\n",
    "    return a\n",
    "\n",
    "def two2(stop,start,step):\n",
    "    b=[start]\n",
    "    while start > stop:\n",
    "        start = start + step\n",
    "        b.append(start)\n",
    "    return b\n",
    "\n",
    "\n",
    "if step>=0:\n",
    "    print(one1(start,stop,step))\n",
    "elif step<0:\n",
    "    print(two2(stop,start,step))\n",
    "else:\n",
    "    pass\n",
    "\n"
   ]
  }
 ],
 "metadata": {
  "kernelspec": {
   "display_name": "Python 3",
   "language": "python",
   "name": "python3"
  },
  "language_info": {
   "codemirror_mode": {
    "name": "ipython",
    "version": 3
   },
   "file_extension": ".py",
   "mimetype": "text/x-python",
   "name": "python",
   "nbconvert_exporter": "python",
   "pygments_lexer": "ipython3",
   "version": "3.8.8"
  }
 },
 "nbformat": 4,
 "nbformat_minor": 5
}
